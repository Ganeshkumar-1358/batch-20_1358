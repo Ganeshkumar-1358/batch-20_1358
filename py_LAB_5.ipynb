{
  "nbformat": 4,
  "nbformat_minor": 0,
  "metadata": {
    "colab": {
      "provenance": [],
      "authorship_tag": "ABX9TyOo5mIXnDomdmPgXhM5D2pH",
      "include_colab_link": true
    },
    "kernelspec": {
      "name": "python3",
      "display_name": "Python 3"
    },
    "language_info": {
      "name": "python"
    }
  },
  "cells": [
    {
      "cell_type": "markdown",
      "metadata": {
        "id": "view-in-github",
        "colab_type": "text"
      },
      "source": [
        "<a href=\"https://colab.research.google.com/github/Ganeshkumar-1358/batch-20_1358/blob/main/py_LAB_5.ipynb\" target=\"_parent\"><img src=\"https://colab.research.google.com/assets/colab-badge.svg\" alt=\"Open In Colab\"/></a>"
      ]
    },
    {
      "cell_type": "code",
      "execution_count": 1,
      "metadata": {
        "colab": {
          "base_uri": "https://localhost:8080/"
        },
        "id": "Cf9-c3qq9U-D",
        "outputId": "d2e8c290-82e1-4863-e0f1-5de79733b422"
      },
      "outputs": [
        {
          "output_type": "stream",
          "name": "stdout",
          "text": [
            "a    10\n",
            "b    20\n",
            "c    30\n",
            "d    40\n",
            "e    50\n",
            "dtype: int64\n"
          ]
        }
      ],
      "source": [
        "import pandas as pd\n",
        "data=[10,20,30,40,50]\n",
        "index_labels=['a','b','c','d','e']\n",
        "series=pd.Series(data=data,index=index_labels)\n",
        "print(series)"
      ]
    },
    {
      "cell_type": "code",
      "source": [
        "import pandas as pd\n",
        "data={'Name:':['ganesh','manohar','Naga naidu','rajiv'],\n",
        "      'Age':[20,23,34,25],\n",
        "      'city:':['hyd','TS','AP','UP']}\n",
        "df=pd.DataFrame(data)\n",
        "print(df)\n",
        "#basic dataframe operations\n",
        "#a:accending data\n",
        "print(df['Name:'])\n",
        "print(df[['Name:','Age']])\n",
        "print(df.iloc[1])\n",
        "print(df.loc[2])\n",
        "df['Salary']=['2','3','4','5']\n",
        "#filtering\n",
        "print(df[df['Age']>20])\n",
        "#basic statistics\n",
        "print(df['Age'].mean()) #avg age\n",
        "print(df['Age'].max())\n",
        "print(df['Age'].min())\n",
        "print(df['Age'].count())\n",
        "print(df['Age'].sum())"
      ],
      "metadata": {
        "colab": {
          "base_uri": "https://localhost:8080/"
        },
        "id": "iS2NW2wd9z9R",
        "outputId": "614fdd37-7229-4a43-c8f5-ef92a67a0946"
      },
      "execution_count": 15,
      "outputs": [
        {
          "output_type": "stream",
          "name": "stdout",
          "text": [
            "        Name:  Age city:\n",
            "0      ganesh   20   hyd\n",
            "1     manohar   23    TS\n",
            "2  Naga naidu   34    AP\n",
            "3       rajiv   25    UP\n",
            "0        ganesh\n",
            "1       manohar\n",
            "2    Naga naidu\n",
            "3         rajiv\n",
            "Name: Name:, dtype: object\n",
            "        Name:  Age\n",
            "0      ganesh   20\n",
            "1     manohar   23\n",
            "2  Naga naidu   34\n",
            "3       rajiv   25\n",
            "Name:    manohar\n",
            "Age           23\n",
            "city:         TS\n",
            "Name: 1, dtype: object\n",
            "Name:    Naga naidu\n",
            "Age              34\n",
            "city:            AP\n",
            "Name: 2, dtype: object\n",
            "        Name:  Age city: Salary\n",
            "1     manohar   23    TS      3\n",
            "2  Naga naidu   34    AP      4\n",
            "3       rajiv   25    UP      5\n",
            "25.5\n",
            "34\n",
            "20\n",
            "4\n",
            "102\n"
          ]
        }
      ]
    },
    {
      "cell_type": "code",
      "source": [
        "student_data = {\n",
        "    \"stu_id\": [101, 102, 103, 104],\n",
        "    \"name\": [\"Manu\", \"Ganu\", \"Panu\", \"Ramu\"],\n",
        "    \"marks\": [85, 90, 78, 92],\n",
        "    \"dept\": [\"CSE\", \"ECE\", \"EEE\", \"MECH\"]\n",
        "}\n",
        "result=pd.DataFrame(student_data)\n",
        "print(result)\n",
        "print(result[result['marks']>80])\n",
        "print(result['marks'].mean())\n",
        "result['RESULT']=[\"pass\" if x>=40 else 'fail' for x in result['marks']]\n",
        "print(result)"
      ],
      "metadata": {
        "colab": {
          "base_uri": "https://localhost:8080/"
        },
        "id": "6IQl3eBrDXc_",
        "outputId": "8862f992-6dfa-492a-b2c3-0c223c1b1f54"
      },
      "execution_count": 16,
      "outputs": [
        {
          "output_type": "stream",
          "name": "stdout",
          "text": [
            "   stu_id  name  marks  dept\n",
            "0     101  Manu     85   CSE\n",
            "1     102  Ganu     90   ECE\n",
            "2     103  Panu     78   EEE\n",
            "3     104  Ramu     92  MECH\n",
            "   stu_id  name  marks  dept\n",
            "0     101  Manu     85   CSE\n",
            "1     102  Ganu     90   ECE\n",
            "3     104  Ramu     92  MECH\n",
            "86.25\n",
            "   stu_id  name  marks  dept RESULT\n",
            "0     101  Manu     85   CSE   pass\n",
            "1     102  Ganu     90   ECE   pass\n",
            "2     103  Panu     78   EEE   pass\n",
            "3     104  Ramu     92  MECH   pass\n"
          ]
        }
      ]
    },
    {
      "cell_type": "code",
      "source": [
        "import pandas as pd\n",
        "df = pd.read_excel(\"student_data.xlsx\")\n",
        "df[\"total\"] = df[[\"m1\", \"m2\", \"m3\"]].sum(axis=1)\n",
        "df[\"avg\"] = df[\"total\"] / 3\n",
        "df[\"result\"] = [\"pass\" if x >= 40 else \"fail\" for x in df[\"avg\"]]\n",
        "print(df)\n"
      ],
      "metadata": {
        "colab": {
          "base_uri": "https://localhost:8080/"
        },
        "id": "er8XTyVV_nhu",
        "outputId": "d972550f-7a07-41af-a29d-4942b1938629"
      },
      "execution_count": 17,
      "outputs": [
        {
          "output_type": "stream",
          "name": "stdout",
          "text": [
            "  sname  sroll  m1  m2  m3  total        avg result\n",
            "0  Manu      1  80  70  85    235  78.333333   pass\n",
            "1  Ganu      2  65  55  60    180  60.000000   pass\n",
            "2  Panu      3  90  88  75    253  84.333333   pass\n",
            "3  Ramu      4  45  60  40    145  48.333333   pass\n",
            "4  Tanu      5  72  68  80    220  73.333333   pass\n"
          ]
        }
      ]
    }
  ]
}