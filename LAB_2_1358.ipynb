{
  "nbformat": 4,
  "nbformat_minor": 0,
  "metadata": {
    "colab": {
      "provenance": [],
      "authorship_tag": "ABX9TyN6EfFC8ISI1NhEzikWYrCG",
      "include_colab_link": true
    },
    "kernelspec": {
      "name": "python3",
      "display_name": "Python 3"
    },
    "language_info": {
      "name": "python"
    }
  },
  "cells": [
    {
      "cell_type": "markdown",
      "metadata": {
        "id": "view-in-github",
        "colab_type": "text"
      },
      "source": [
        "<a href=\"https://colab.research.google.com/github/Ganeshkumar-1358/batch-20_1358/blob/main/LAB_2_1358.ipynb\" target=\"_parent\"><img src=\"https://colab.research.google.com/assets/colab-badge.svg\" alt=\"Open In Colab\"/></a>"
      ]
    },
    {
      "cell_type": "code",
      "execution_count": null,
      "metadata": {
        "colab": {
          "base_uri": "https://localhost:8080/"
        },
        "id": "puZMI-LKyzvX",
        "outputId": "e23a0a9a-d77e-4112-95ef-a9bf8b523d41"
      },
      "outputs": [
        {
          "output_type": "stream",
          "name": "stdout",
          "text": [
            "<class 'int'> 10\n",
            "<class 'str'> ganesh\n",
            "<class 'float'> 33.3\n"
          ]
        }
      ],
      "source": [
        "l=[10,\"ganesh\",33.3]\n",
        "for i in l:\n",
        "  print(type(i),i)"
      ]
    },
    {
      "cell_type": "code",
      "source": [
        "l=[10,20,30,40]\n",
        "print(l)\n",
        "if 20 in l:\n",
        "  print(\"found\")\n",
        "else:\n",
        "  print(\"not found\")\n",
        "l.append(50)\n",
        "print(l)\n",
        "l.remove(20)\n",
        "print(l)\n",
        "l.insert(1,20)\n",
        "print(l)\n",
        "l.pop()\n",
        "print(l)\n",
        "l.reverse()\n",
        "print(l)\n",
        "l.sort()\n",
        "print(l)\n",
        "print(sum(l))\n",
        "print(min(l))\n",
        "print(max(l))"
      ],
      "metadata": {
        "colab": {
          "base_uri": "https://localhost:8080/"
        },
        "id": "wF3l4qWY2eqy",
        "outputId": "878f7ab6-6854-47f3-e53a-3edfcd664bae"
      },
      "execution_count": null,
      "outputs": [
        {
          "output_type": "stream",
          "name": "stdout",
          "text": [
            "[10, 20, 30, 40]\n",
            "found\n",
            "[10, 20, 30, 40, 50]\n",
            "[10, 30, 40, 50]\n",
            "[10, 20, 30, 40, 50]\n",
            "[10, 20, 30, 40]\n",
            "[40, 30, 20, 10]\n",
            "[10, 20, 30, 40]\n",
            "100\n",
            "10\n",
            "40\n"
          ]
        }
      ]
    },
    {
      "cell_type": "code",
      "source": [
        "std=[[10,20,],[30,40],[50,60],[70,80],[90,100]]\n",
        "for i in std:\n",
        "  print(i)\n",
        "#tuple\n",
        "t=(1,2.2,\"ganesh\")\n",
        "for i in t:\n",
        "  print(type(i),i)\n",
        "tuple=(1,2,3,4,5,6,2,3,4,5,2,3,4,4,5)\n",
        "print(tuple)\n",
        "print(tuple.count(5))\n",
        "print(tuple.index(5))\n",
        "if 6 in t:\n",
        "  print(\"found\")\n",
        "else:\n",
        "  print(\"not found\")"
      ],
      "metadata": {
        "colab": {
          "base_uri": "https://localhost:8080/"
        },
        "id": "rb6jUqFk5YsT",
        "outputId": "56d03e99-d8f3-486f-af1d-da2c0b529885"
      },
      "execution_count": null,
      "outputs": [
        {
          "output_type": "stream",
          "name": "stdout",
          "text": [
            "[10, 20]\n",
            "[30, 40]\n",
            "[50, 60]\n",
            "[70, 80]\n",
            "[90, 100]\n",
            "<class 'int'> 1\n",
            "<class 'float'> 2.2\n",
            "<class 'str'> ganesh\n",
            "(1, 2, 3, 4, 5, 6, 2, 3, 4, 5, 2, 3, 4, 4, 5)\n",
            "3\n",
            "4\n",
            "not found\n"
          ]
        }
      ]
    },
    {
      "cell_type": "code",
      "source": [
        "l=[1,2,3,4,5]\n",
        "mytuple=tuple(l)\n",
        "print(my_tuple)"
      ],
      "metadata": {
        "colab": {
          "base_uri": "https://localhost:8080/",
          "height": 176
        },
        "id": "StnTw5IS9-Mr",
        "outputId": "3acdb5cd-19fe-4d8d-c191-21d87714bf78"
      },
      "execution_count": null,
      "outputs": [
        {
          "output_type": "error",
          "ename": "NameError",
          "evalue": "name 'my_tuple' is not defined",
          "traceback": [
            "\u001b[0;31m---------------------------------------------------------------------------\u001b[0m",
            "\u001b[0;31mNameError\u001b[0m                                 Traceback (most recent call last)",
            "\u001b[0;32m/tmp/ipython-input-43296181.py\u001b[0m in \u001b[0;36m<cell line: 0>\u001b[0;34m()\u001b[0m\n\u001b[1;32m      1\u001b[0m \u001b[0ml\u001b[0m\u001b[0;34m=\u001b[0m\u001b[0;34m[\u001b[0m\u001b[0;36m1\u001b[0m\u001b[0;34m,\u001b[0m\u001b[0;36m2\u001b[0m\u001b[0;34m,\u001b[0m\u001b[0;36m3\u001b[0m\u001b[0;34m,\u001b[0m\u001b[0;36m4\u001b[0m\u001b[0;34m,\u001b[0m\u001b[0;36m5\u001b[0m\u001b[0;34m]\u001b[0m\u001b[0;34m\u001b[0m\u001b[0;34m\u001b[0m\u001b[0m\n\u001b[0;32m----> 2\u001b[0;31m \u001b[0mmytuple\u001b[0m\u001b[0;34m=\u001b[0m\u001b[0mmy_tuple\u001b[0m\u001b[0;34m(\u001b[0m\u001b[0ml\u001b[0m\u001b[0;34m)\u001b[0m\u001b[0;34m\u001b[0m\u001b[0;34m\u001b[0m\u001b[0m\n\u001b[0m\u001b[1;32m      3\u001b[0m \u001b[0mprint\u001b[0m\u001b[0;34m(\u001b[0m\u001b[0mmytuple\u001b[0m\u001b[0;34m)\u001b[0m\u001b[0;34m\u001b[0m\u001b[0;34m\u001b[0m\u001b[0m\n",
            "\u001b[0;31mNameError\u001b[0m: name 'my_tuple' is not defined"
          ]
        }
      ]
    },
    {
      "cell_type": "code",
      "source": [
        "student={\"101\":{\"name\":\"ganesh\",\"id\":\"1358\"},\"420\":{\"name\":\"naga\",\"id\":\"1361\"}}\n",
        "print(student.keys())\n",
        "print(student.values())\n",
        "print(student.items())"
      ],
      "metadata": {
        "colab": {
          "base_uri": "https://localhost:8080/"
        },
        "id": "-mmbt2LaAi3y",
        "outputId": "7e10fa8a-e777-49be-9e75-ab5df988c367"
      },
      "execution_count": null,
      "outputs": [
        {
          "output_type": "stream",
          "name": "stdout",
          "text": [
            "dict_keys(['101', '420'])\n",
            "dict_values([{'name': 'ganesh', 'id': '1358'}, {'name': 'naga', 'id': '1361'}])\n",
            "dict_items([('101', {'name': 'ganesh', 'id': '1358'}), ('420', {'name': 'naga', 'id': '1361'})])\n"
          ]
        }
      ]
    },
    {
      "cell_type": "code",
      "source": [
        "l=[[10,20],[30,40],[50,60]]\n",
        "for i in l:\n",
        "  print(*i)"
      ],
      "metadata": {
        "colab": {
          "base_uri": "https://localhost:8080/"
        },
        "id": "rwlQ2GqzAOvE",
        "outputId": "a30bd8bb-b79a-42f5-f547-6e6c643b5f2f"
      },
      "execution_count": null,
      "outputs": [
        {
          "output_type": "stream",
          "name": "stdout",
          "text": [
            "10 20\n",
            "30 40\n",
            "50 60\n"
          ]
        }
      ]
    },
    {
      "cell_type": "code",
      "source": [
        "import numpy as np\n",
        "# Step 1: Create a 2D NumPy array\n",
        "# Rows: Students, Columns: Subjects (e.g., Math, Science, English)\n",
        "marks = np.array([\n",
        "    [78, 85, 90],\n",
        "    [92, 88, 95],\n",
        "    [65, 70, 72],\n",
        "    [88, 91, 85],\n",
        "    [56, 60, 62],\n",
        "    [81, 79, 83]\n",
        "])\n",
        "\n",
        "print(\"Student Marks (Rows=Students, Columns=Subjects):\\n\", marks)\n",
        "\n",
        "# Step 2: Calculate average, min, and max\n",
        "avg_marks = np.mean(marks, axis=1)  # Average per student\n",
        "min_marks = np.min(marks, axis=1)\n",
        "max_marks = np.max(marks, axis=1)\n",
        "\n",
        "print(\"\\nAverage Marks of Each Student:\", avg_marks)\n",
        "print(\"Minimum Marks of Each Student:\", min_marks)\n",
        "print(\"Maximum Marks of Each Student:\", max_marks)\n",
        "\n",
        "# Step 3: Slicing - Get marks of 2nd and 4th students (index 1 and 3)\n",
        "selected_students = marks[[1, 3], :]\n",
        "print(\"\\nMarks of 2nd and 4th Students:\\n\", selected_students)\n",
        "\n",
        "# Step 4: Boolean indexing - Find students with any subject marks > 80\n",
        "above_80 = marks[np.any(marks > 80, axis=1)]\n",
        "print(\"\\nStudents scoring above 80 in any subject:\\n\", above_80)\n",
        "\n",
        "# Step 5: Reshape the array to subject-wise (3 subjects, many students)\n",
        "reshaped = marks.T  # Transpose to make rows = subjects\n",
        "print(\"\\nReshaped Array (Subjects as Rows):\\n\", reshaped)\n",
        "\n",
        "# Step 6: Comment / Analysis\n",
        "print(\"\\n--- Analysis ---\")\n",
        "print(\"1. Student 2 and 4 performed consistently well across subjects.\")\n",
        "print(\"2. Students 3 and 5 need improvement in all subjects.\")\n",
        "print(\"3. Science and English have slightly higher average scores than Math.\")\n"
      ],
      "metadata": {
        "colab": {
          "base_uri": "https://localhost:8080/"
        },
        "id": "CRtQnxk4ARvT",
        "outputId": "fd0c605b-38e1-45ba-a1eb-6b20b8e33d8c"
      },
      "execution_count": null,
      "outputs": [
        {
          "output_type": "stream",
          "name": "stdout",
          "text": [
            "Student Marks (Rows=Students, Columns=Subjects):\n",
            " [[78 85 90]\n",
            " [92 88 95]\n",
            " [65 70 72]\n",
            " [88 91 85]\n",
            " [56 60 62]\n",
            " [81 79 83]]\n",
            "\n",
            "Average Marks of Each Student: [84.33333333 91.66666667 69.         88.         59.33333333 81.        ]\n",
            "Minimum Marks of Each Student: [78 88 65 85 56 79]\n",
            "Maximum Marks of Each Student: [90 95 72 91 62 83]\n",
            "\n",
            "Marks of 2nd and 4th Students:\n",
            " [[92 88 95]\n",
            " [88 91 85]]\n",
            "\n",
            "Students scoring above 80 in any subject:\n",
            " [[78 85 90]\n",
            " [92 88 95]\n",
            " [88 91 85]\n",
            " [81 79 83]]\n",
            "\n",
            "Reshaped Array (Subjects as Rows):\n",
            " [[78 92 65 88 56 81]\n",
            " [85 88 70 91 60 79]\n",
            " [90 95 72 85 62 83]]\n",
            "\n",
            "--- Analysis ---\n",
            "1. Student 2 and 4 performed consistently well across subjects.\n",
            "2. Students 3 and 5 need improvement in all subjects.\n",
            "3. Science and English have slightly higher average scores than Math.\n"
          ]
        }
      ]
    },
    {
      "cell_type": "code",
      "source": [],
      "metadata": {
        "id": "n0kGG7ojJkJp"
      },
      "execution_count": null,
      "outputs": []
    }
  ]
}