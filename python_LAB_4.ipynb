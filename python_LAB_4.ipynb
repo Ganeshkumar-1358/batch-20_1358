{
  "nbformat": 4,
  "nbformat_minor": 0,
  "metadata": {
    "colab": {
      "provenance": [],
      "authorship_tag": "ABX9TyM7UGFrqCcKJXq8XlNKsBf8",
      "include_colab_link": true
    },
    "kernelspec": {
      "name": "python3",
      "display_name": "Python 3"
    },
    "language_info": {
      "name": "python"
    }
  },
  "cells": [
    {
      "cell_type": "markdown",
      "metadata": {
        "id": "view-in-github",
        "colab_type": "text"
      },
      "source": [
        "<a href=\"https://colab.research.google.com/github/Ganeshkumar-1358/batch-20_1358/blob/main/python_LAB_4.ipynb\" target=\"_parent\"><img src=\"https://colab.research.google.com/assets/colab-badge.svg\" alt=\"Open In Colab\"/></a>"
      ]
    },
    {
      "cell_type": "code",
      "execution_count": 12,
      "metadata": {
        "colab": {
          "base_uri": "https://localhost:8080/"
        },
        "id": "3pbUUBLF7TOQ",
        "outputId": "0aab0d11-1e7c-496f-bb67-fdf0ad0697e6"
      },
      "outputs": [
        {
          "output_type": "stream",
          "name": "stdout",
          "text": [
            "helo, world!\n",
            "this is file handling in python.\n",
            "SRU\n",
            "\n"
          ]
        }
      ],
      "source": [
        "fp=open(\"new.txt\",\"w\")\n",
        "fp.write(\"helo, world!\\n\")\n",
        "fp.write(\"this is file handling in python.\\n\")\n",
        "fp.write(\"SRU\\n\")\n",
        "fp.close()\n",
        "fp=open(\"new.txt\",\"r\")\n",
        "str=fp.read()\n",
        "print(str)\n",
        "fp.close()"
      ]
    },
    {
      "cell_type": "code",
      "source": [
        "fp=open(\"new.txt\",\"r\")\n",
        "line1=fp.readline()\n",
        "print(line1)\n",
        "line2=fp.readline()\n",
        "print(line2)\n",
        "line3=fp.readline()\n",
        "print(line3)\n",
        "fp.close()"
      ],
      "metadata": {
        "colab": {
          "base_uri": "https://localhost:8080/"
        },
        "id": "HxL6OtI99oUx",
        "outputId": "c3d30c6f-68cc-44f5-ea19-32c7e6aec8ef"
      },
      "execution_count": 5,
      "outputs": [
        {
          "output_type": "stream",
          "name": "stdout",
          "text": [
            "helo, world!\n",
            "\n",
            "this is file handling in python.\n",
            "\n",
            "SRU\n",
            "\n"
          ]
        }
      ]
    },
    {
      "cell_type": "code",
      "source": [
        "fp=open(\"new.txt\",\"r\")\n",
        "lines=fp.readlines()\n",
        "print(lines)\n",
        "fp.close()"
      ],
      "metadata": {
        "colab": {
          "base_uri": "https://localhost:8080/"
        },
        "id": "3qxiLPH--t-P",
        "outputId": "8a43352a-ccd2-4745-cdfe-cf25bf03d379"
      },
      "execution_count": 7,
      "outputs": [
        {
          "output_type": "stream",
          "name": "stdout",
          "text": [
            "['helo, world!\\n', 'this is file handling in python.\\n', 'SRU\\n']\n"
          ]
        }
      ]
    },
    {
      "cell_type": "code",
      "source": [
        "fp=open(\"new.txt\",\"a\")\n",
        "fp.write(\"HELLO SRU \\n\")\n",
        "fp=open(\"new.txt\",\"r\")\n",
        "str=fp.read()\n",
        "print(str)\n",
        "fp.close()\n"
      ],
      "metadata": {
        "colab": {
          "base_uri": "https://localhost:8080/"
        },
        "id": "kwmDytPs_ZzP",
        "outputId": "0562ab83-9fbe-4429-9071-900446ceb09a"
      },
      "execution_count": 15,
      "outputs": [
        {
          "output_type": "stream",
          "name": "stdout",
          "text": [
            "helo, world!\n",
            "this is file handling in python.\n",
            "SRU\n",
            "hlo SRU \n",
            "hlo SRU \n",
            "HELLO SRU \n",
            "\n"
          ]
        }
      ]
    },
    {
      "cell_type": "code",
      "source": [
        "import csv\n",
        "with open(\"data.csv\",\"w\",newline='') as fp:\n",
        "  wr=csv.writer(fp)\n",
        "  wr.writerows([[\"Name\",\"Age\",\"course\"],[\"ganesh\",\"21\",\"CSE\"],[\"naga naidu\",20,\"EEE\"]])\n"
      ],
      "metadata": {
        "id": "NT8b4btm_XS8"
      },
      "execution_count": 18,
      "outputs": []
    },
    {
      "cell_type": "code",
      "source": [
        "with open(\"data.csv\",\"r\") as file:\n",
        "  re=csv.reader(file)\n",
        "  for row in re:\n",
        "    print(row)"
      ],
      "metadata": {
        "colab": {
          "base_uri": "https://localhost:8080/"
        },
        "id": "8i8tx4sgC4cB",
        "outputId": "1bc0dd73-f5c9-410b-8b20-3aa83b35386c"
      },
      "execution_count": 20,
      "outputs": [
        {
          "output_type": "stream",
          "name": "stdout",
          "text": [
            "['Name', 'Age', 'course']\n",
            "['ganesh', '21', 'CSE']\n",
            "['naga naidu', '20', 'EEE']\n"
          ]
        }
      ]
    },
    {
      "cell_type": "code",
      "source": [
        "import numpy as np\n",
        "#1d array\n",
        "arr1=np.array([1,2,3,4])\n",
        "print(\"1D:\",arr1)\n",
        "#2D array\n",
        "arr2=np.array([[1,2,3,4],[5,6,7,8]])\n",
        "print(\"2D:\",arr2)\n",
        "zeros_arr=np.zeros((3,3))\n",
        "print(\"Zeros Array: \\n\",zeros_arr)\n",
        "#ones Array\n",
        "ones_arr=np.ones((3,3))\n",
        "print(ones_arr)\n",
        "#range\n",
        "range_arr=np.arange(1,10,2)\n",
        "print(range_arr)\n",
        "#random\n",
        "rand_arr=np.random.rand(3,3)\n",
        "print(rand_arr)"
      ],
      "metadata": {
        "colab": {
          "base_uri": "https://localhost:8080/"
        },
        "id": "AwJvm8AND7hc",
        "outputId": "9b05facf-a357-4157-f397-f44a320570ed"
      },
      "execution_count": 32,
      "outputs": [
        {
          "output_type": "stream",
          "name": "stdout",
          "text": [
            "1D: [1 2 3 4]\n",
            "2D: [[1 2 3 4]\n",
            " [5 6 7 8]]\n",
            "Zeros Array: \n",
            " [[0. 0. 0.]\n",
            " [0. 0. 0.]\n",
            " [0. 0. 0.]]\n",
            "[[1. 1. 1.]\n",
            " [1. 1. 1.]\n",
            " [1. 1. 1.]]\n",
            "[1 3 5 7 9]\n",
            "[[0.76896594 0.03718598 0.03697619]\n",
            " [0.88946707 0.42680691 0.03452568]\n",
            " [0.17407367 0.14463654 0.74961826]]\n"
          ]
        }
      ]
    },
    {
      "cell_type": "code",
      "source": [
        "#Array Attributes\n",
        "arr=np.array([[1,2,3,4],[5,6,7,8]])\n",
        "print(arr.shape)\n",
        "print(arr.size)\n",
        "print(arr.dtype)\n",
        "print(arr.ndim)\n",
        "print(arr.itemsize)"
      ],
      "metadata": {
        "colab": {
          "base_uri": "https://localhost:8080/"
        },
        "id": "0cLBpHCsHDTv",
        "outputId": "84be9ce0-73e6-4d39-d6f3-0fe051bfd729"
      },
      "execution_count": 33,
      "outputs": [
        {
          "output_type": "stream",
          "name": "stdout",
          "text": [
            "(2, 4)\n",
            "8\n",
            "int64\n",
            "2\n",
            "8\n"
          ]
        }
      ]
    },
    {
      "cell_type": "code",
      "source": [
        "#1D array\n",
        "arr=np.array([1,2,3,4,5,6,7,8])\n",
        "print(arr[0])\n",
        "print(arr[-1])\n",
        "print(arr[1:4])\n",
        "print(arr[::2])"
      ],
      "metadata": {
        "colab": {
          "base_uri": "https://localhost:8080/"
        },
        "id": "R_KCKakiMdKP",
        "outputId": "d7dce15e-6e47-4397-ebbc-a7317b3208c5"
      },
      "execution_count": 34,
      "outputs": [
        {
          "output_type": "stream",
          "name": "stdout",
          "text": [
            "1\n",
            "8\n",
            "[2 3 4]\n",
            "[1 3 5 7]\n"
          ]
        }
      ]
    },
    {
      "cell_type": "code",
      "source": [
        "#2D Array\n",
        "arr=np.array([[1,2,3,4],[5,6,7,8]])\n",
        "print(arr[0,1])\n",
        "print(arr[1,:])\n",
        "print(arr[:1])"
      ],
      "metadata": {
        "colab": {
          "base_uri": "https://localhost:8080/"
        },
        "id": "bIS7YdcwNcSt",
        "outputId": "c7b7e22b-6ad0-4bf7-a578-e1688efd6cd6"
      },
      "execution_count": 35,
      "outputs": [
        {
          "output_type": "stream",
          "name": "stdout",
          "text": [
            "2\n",
            "[5 6 7 8]\n",
            "[[1 2 3 4]]\n"
          ]
        }
      ]
    },
    {
      "cell_type": "code",
      "source": [
        "#Array operations\n",
        "a=np.array([1,2,3,4])\n",
        "b=np.array([5,6,7,8])\n",
        "print(a+b)\n",
        "print(a-b)\n",
        "print(a*b)\n",
        "print(a/b)\n",
        "print(a**b)"
      ],
      "metadata": {
        "colab": {
          "base_uri": "https://localhost:8080/"
        },
        "id": "8H2vsc7WQVtV",
        "outputId": "617760a4-9a9e-4d50-82c2-9491b621255e"
      },
      "execution_count": 37,
      "outputs": [
        {
          "output_type": "stream",
          "name": "stdout",
          "text": [
            "[ 6  8 10 12]\n",
            "[-4 -4 -4 -4]\n",
            "[ 5 12 21 32]\n",
            "[0.2        0.33333333 0.42857143 0.5       ]\n",
            "[    1    64  2187 65536]\n"
          ]
        }
      ]
    },
    {
      "cell_type": "code",
      "source": [
        "#Aggregate Function\n",
        "arr=np.array([[1,2,3,4],[5,6,7,8]])\n",
        "print(arr.sum())\n",
        "print(arr.min())\n",
        "print(arr.max())\n",
        "print(arr.mean())\n",
        "print(arr.std())\n",
        "print(np.std(arr,axis=0))"
      ],
      "metadata": {
        "colab": {
          "base_uri": "https://localhost:8080/"
        },
        "id": "h8Z0iOx2RGUj",
        "outputId": "19d41ae5-9075-4710-e7c4-4bf64eadcbd1"
      },
      "execution_count": 43,
      "outputs": [
        {
          "output_type": "stream",
          "name": "stdout",
          "text": [
            "36\n",
            "1\n",
            "8\n",
            "4.5\n",
            "2.29128784747792\n",
            "[2. 2. 2. 2.]\n"
          ]
        }
      ]
    },
    {
      "cell_type": "code",
      "source": [
        "#broadcasting\n",
        "a=np.array([1,2,3])\n",
        "b=5\n",
        "print(a+b)\n",
        "c=np.array([[1],[2],[3]])\n",
        "d=np.array([4,5,6])\n",
        "print(c+d)"
      ],
      "metadata": {
        "colab": {
          "base_uri": "https://localhost:8080/"
        },
        "id": "gbH12CHuSx7r",
        "outputId": "d99b1391-0c8e-4592-9554-9a0cc513d3d1"
      },
      "execution_count": 45,
      "outputs": [
        {
          "output_type": "stream",
          "name": "stdout",
          "text": [
            "[6 7 8]\n",
            "[[5 6 7]\n",
            " [6 7 8]\n",
            " [7 8 9]]\n"
          ]
        }
      ]
    },
    {
      "cell_type": "code",
      "source": [
        "import numpy as np\n",
        "marks=np.array([[85,90,88],[78,81,85],[92,89,95]])\n",
        "print(\"avg mks per std:\",np.mean(marks,axis=1))\n",
        "print(\"avg mks per sub:\",np.mean(marks,axis=0))\n",
        "print(\"highest marks in esch subjects:\",np.max(marks,axis=0))\n",
        "print(\"lowest marks in esch subjects:\",np.min(marks,axis=0))"
      ],
      "metadata": {
        "colab": {
          "base_uri": "https://localhost:8080/"
        },
        "id": "C_KyahmObgJt",
        "outputId": "37698e37-fa6d-4702-d1f3-c5d1b4b63056"
      },
      "execution_count": 46,
      "outputs": [
        {
          "output_type": "stream",
          "name": "stdout",
          "text": [
            "avg mks per std: [87.66666667 81.33333333 92.        ]\n",
            "avg mks per sub: [85.         86.66666667 89.33333333]\n",
            "highest marks in esch subjects: [92 90 95]\n",
            "lowest marks in esch subjects: [78 81 85]\n"
          ]
        }
      ]
    }
  ]
}